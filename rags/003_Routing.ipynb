{
 "cells": [
  {
   "cell_type": "markdown",
   "id": "6c30dbb6-0059-4506-93cb-da566c6d163d",
   "metadata": {},
   "source": [
    "# Routing"
   ]
  },
  {
   "cell_type": "code",
   "execution_count": 1,
   "id": "60c6ec68-97ff-4c7c-88f4-ebb145176919",
   "metadata": {},
   "outputs": [],
   "source": [
    "import os\n",
    "from dotenv import load_dotenv, find_dotenv\n",
    "_ = load_dotenv(find_dotenv()) # read local .env file"
   ]
  },
  {
   "cell_type": "code",
   "execution_count": 2,
   "id": "563fc032-cd84-4816-b51c-0145958062e6",
   "metadata": {},
   "outputs": [],
   "source": [
    "os.environ['LANGSMITH_PROJECT']=\"ai-agents-rags\"\n",
    "os.environ['LANGSMITH_TRACING']=\"true\""
   ]
  },
  {
   "cell_type": "markdown",
   "id": "aca26160-bf79-47ae-b554-4d9387746c6b",
   "metadata": {},
   "source": [
    "## Logical & Semantic Routing\n",
    "https://python.langchain.com/docs/how_to/routing/#routing-by-semantic-similarity\n",
    "![Semantic Routing](./logical-semantic-routing.png)"
   ]
  },
  {
   "cell_type": "code",
   "execution_count": 4,
   "id": "aab58f05-26a4-4642-9972-b7a9434918ad",
   "metadata": {},
   "outputs": [],
   "source": [
    "from typing import Literal\n",
    "\n",
    "from langchain_core.prompts import ChatPromptTemplate\n",
    "from pydantic import BaseModel, Field\n",
    "from langchain_openai import ChatOpenAI\n",
    "\n",
    "# Data model\n",
    "class RouteQuery(BaseModel):\n",
    "    \"\"\"Route a user query to the most relevant datasource.\"\"\"\n",
    "\n",
    "    datasource: Literal[\"python_docs\", \"js_docs\", \"golang_docs\"] = Field(\n",
    "        ...,\n",
    "        description=\"Given a user question choose which datasource would be most relevant for answering their question\",\n",
    "    )\n",
    "\n",
    "# LLM with function call \n",
    "llm = ChatOpenAI(model=\"gpt-4o-mini\", temperature=0)\n",
    "structured_llm = llm.with_structured_output(RouteQuery)\n",
    "\n",
    "# Prompt \n",
    "system = \"\"\"You are an expert at routing a user question to the appropriate data source.\n",
    "\n",
    "Based on the programming language the question is referring to, route it to the relevant data source.\"\"\"\n",
    "\n",
    "prompt = ChatPromptTemplate.from_messages(\n",
    "    [\n",
    "        (\"system\", system),\n",
    "        (\"human\", \"{question}\"),\n",
    "    ]\n",
    ")\n",
    "\n",
    "# Define router \n",
    "router = prompt | structured_llm"
   ]
  },
  {
   "cell_type": "markdown",
   "id": "43b582c2-85bd-4fd8-9b5f-d7befe2da531",
   "metadata": {},
   "source": [
    "### Structured Output\n",
    "![Function Calling](./function-calling.png)"
   ]
  },
  {
   "cell_type": "code",
   "execution_count": 6,
   "id": "16a6c929-9db5-44f6-b9cf-73dbf759debc",
   "metadata": {},
   "outputs": [],
   "source": [
    "question = \"\"\"Why doesn't the following code work:\n",
    "\n",
    "from langchain_core.prompts import ChatPromptTemplate\n",
    "\n",
    "prompt = ChatPromptTemplate.from_messages([\"human\", \"speak in {language}\"])\n",
    "prompt.invoke(\"french\")\n",
    "\"\"\"\n",
    "\n",
    "result = router.invoke({\"question\": question})"
   ]
  },
  {
   "cell_type": "code",
   "execution_count": 8,
   "id": "3524fb25-7fc9-4ce5-88c9-1d75ba357b2a",
   "metadata": {},
   "outputs": [
    {
     "data": {
      "text/plain": [
       "(RouteQuery(datasource='python_docs'), 'python_docs')"
      ]
     },
     "execution_count": 8,
     "metadata": {},
     "output_type": "execute_result"
    }
   ],
   "source": [
    "result, result.datasource"
   ]
  },
  {
   "cell_type": "code",
   "execution_count": 9,
   "id": "e31d1a80-09f1-49cc-a326-1f9725960652",
   "metadata": {},
   "outputs": [],
   "source": [
    "def choose_route(result):\n",
    "    if \"python_docs\" in result.datasource.lower():\n",
    "        ### Logic here \n",
    "        return \"chain for python_docs\"\n",
    "    elif \"js_docs\" in result.datasource.lower():\n",
    "        ### Logic here \n",
    "        return \"chain for js_docs\"\n",
    "    else:\n",
    "        ### Logic here \n",
    "        return \"golang_docs\"\n",
    "\n",
    "from langchain_core.runnables import RunnableLambda\n",
    "\n",
    "full_chain = router | RunnableLambda(choose_route)"
   ]
  },
  {
   "cell_type": "code",
   "execution_count": 10,
   "id": "9f595f82-eeb4-4650-bf31-5be7292c0e5f",
   "metadata": {},
   "outputs": [
    {
     "data": {
      "text/plain": [
       "'chain for python_docs'"
      ]
     },
     "execution_count": 10,
     "metadata": {},
     "output_type": "execute_result"
    }
   ],
   "source": [
    "full_chain.invoke({\"question\": question})\n"
   ]
  },
  {
   "cell_type": "markdown",
   "id": "e020fd9b-4a55-420a-a65b-bff6539e3ec2",
   "metadata": {},
   "source": [
    "### Semantic Routing\n",
    "![semantic-routing](./semantic-routing.png)"
   ]
  },
  {
   "cell_type": "code",
   "execution_count": 12,
   "id": "ec163559-0aa9-439d-9364-e921d03c4b12",
   "metadata": {},
   "outputs": [
    {
     "name": "stdout",
     "output_type": "stream",
     "text": [
      "Using PHYSICS\n",
      "A black hole is a region in space where gravity is so strong that nothing, not even light, can escape from it. This phenomenon occurs when a massive star collapses in on itself. The gravitational pull is so intense that it creates a point of infinite density called a singularity at its center. The boundary surrounding the singularity is called the event horizon, beyond which nothing can escape. Black holes are fascinating objects in the universe that continue to be studied by physicists and astronomers.\n"
     ]
    }
   ],
   "source": [
    "from langchain.utils.math import cosine_similarity\n",
    "from langchain_core.output_parsers import StrOutputParser\n",
    "from langchain_core.prompts import PromptTemplate\n",
    "from langchain_core.runnables import RunnableLambda, RunnablePassthrough\n",
    "from langchain_openai import ChatOpenAI, OpenAIEmbeddings\n",
    "\n",
    "# Two prompts\n",
    "physics_template = \"\"\"You are a very smart physics professor. \\\n",
    "You are great at answering questions about physics in a concise and easy to understand manner. \\\n",
    "When you don't know the answer to a question you admit that you don't know.\n",
    "\n",
    "Here is a question:\n",
    "{query}\"\"\"\n",
    "\n",
    "math_template = \"\"\"You are a very good mathematician. You are great at answering math questions. \\\n",
    "You are so good because you are able to break down hard problems into their component parts, \\\n",
    "answer the component parts, and then put them together to answer the broader question.\n",
    "\n",
    "Here is a question:\n",
    "{query}\"\"\"\n",
    "\n",
    "# Embed prompts\n",
    "embeddings = OpenAIEmbeddings()\n",
    "prompt_templates = [physics_template, math_template]\n",
    "prompt_embeddings = embeddings.embed_documents(prompt_templates)\n",
    "\n",
    "# Route question to prompt \n",
    "def prompt_router(input):\n",
    "    # Embed question\n",
    "    query_embedding = embeddings.embed_query(input[\"query\"])\n",
    "    # Compute similarity\n",
    "    similarity = cosine_similarity([query_embedding], prompt_embeddings)[0]\n",
    "    most_similar = prompt_templates[similarity.argmax()]\n",
    "    # Chosen prompt \n",
    "    print(\"Using MATH\" if most_similar == math_template else \"Using PHYSICS\")\n",
    "    return PromptTemplate.from_template(most_similar)\n",
    "\n",
    "\n",
    "chain = (\n",
    "    {\"query\": RunnablePassthrough()}\n",
    "    | RunnableLambda(prompt_router)\n",
    "    | ChatOpenAI()\n",
    "    | StrOutputParser()\n",
    ")\n",
    "\n",
    "print(chain.invoke(\"What's a black hole\"))"
   ]
  },
  {
   "cell_type": "code",
   "execution_count": 13,
   "id": "c2b6ca62-c226-441e-bf05-c104eb75cb20",
   "metadata": {},
   "outputs": [
    {
     "name": "stdout",
     "output_type": "stream",
     "text": [
      "Using PHYSICS\n",
      "ODE stands for Ordinary Differential Equation. It is an equation that involves a function of one variable and its derivatives. These equations are commonly used in physics to model the behavior of physical systems over time. ODEs can describe how a system changes in response to various factors and can be solved to predict the future behavior of the system. They are an important tool in understanding complex dynamical systems in physics.\n"
     ]
    }
   ],
   "source": [
    "print(chain.invoke(\"Explain ODE\"))"
   ]
  },
  {
   "cell_type": "code",
   "execution_count": 14,
   "id": "1ef9001c-8503-42bf-afd3-15a9a77c6e00",
   "metadata": {},
   "outputs": [
    {
     "name": "stdout",
     "output_type": "stream",
     "text": [
      "Using MATH\n",
      "Ordinary differential equations belong to the subject of mathematics. They are a fundamental topic in mathematics, specifically in the branch of calculus and differential equations. While they have many applications in physics and other sciences, they are primarily studied and developed within the mathematical framework.\n"
     ]
    }
   ],
   "source": [
    "print(chain.invoke(\"ORdinary differential equations belongs to the subject of Mathematics or Physics?\"))"
   ]
  },
  {
   "cell_type": "code",
   "execution_count": null,
   "id": "b5d5aaf1-8bfc-485c-b4f3-63cf5c520bcf",
   "metadata": {},
   "outputs": [],
   "source": []
  }
 ],
 "metadata": {
  "kernelspec": {
   "display_name": "Python 3 (ipykernel)",
   "language": "python",
   "name": "python3"
  },
  "language_info": {
   "codemirror_mode": {
    "name": "ipython",
    "version": 3
   },
   "file_extension": ".py",
   "mimetype": "text/x-python",
   "name": "python",
   "nbconvert_exporter": "python",
   "pygments_lexer": "ipython3",
   "version": "3.12.0"
  }
 },
 "nbformat": 4,
 "nbformat_minor": 5
}

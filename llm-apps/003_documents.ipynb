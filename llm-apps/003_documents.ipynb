{
 "cells": [
  {
   "cell_type": "markdown",
   "id": "bf123495-b97c-4e11-82e5-e211b41e5faf",
   "metadata": {},
   "source": [
    "# LangChain: Q&A Over Documents"
   ]
  },
  {
   "cell_type": "code",
   "execution_count": 1,
   "id": "037a997b-a7d5-415f-9ded-3f443334fa63",
   "metadata": {},
   "outputs": [],
   "source": [
    "import os\n",
    "from openai import OpenAI\n",
    "\n",
    "from dotenv import load_dotenv, find_dotenv\n",
    "_ = load_dotenv(find_dotenv()) # read local .env file\n",
    "openai_api_key = os.environ['OPENAI_API_KEY']\n",
    "\n",
    "client = OpenAI(api_key=openai_api_key)\n",
    "\n",
    "MODEL = \"gpt-4o-mini\""
   ]
  },
  {
   "cell_type": "code",
   "execution_count": 13,
   "id": "59735a97-dd52-4c70-bc22-0acf327aba98",
   "metadata": {},
   "outputs": [],
   "source": [
    "from langchain.chains import RetrievalQA\n",
    "from langchain_openai import ChatOpenAI, OpenAIEmbeddings, OpenAI\n",
    "from langchain.document_loaders import CSVLoader\n",
    "from langchain.vectorstores import DocArrayInMemorySearch\n",
    "from IPython.display import display, Markdown\n",
    "# from langchain.llms import OpenAI\n",
    "from langchain.embeddings import OpenAIEmbeddings\n"
   ]
  },
  {
   "cell_type": "code",
   "execution_count": 8,
   "id": "e4803188-beaa-48a7-b62b-142a0751cf3e",
   "metadata": {},
   "outputs": [],
   "source": [
    "file = 'OutdoorClothingCatalog_1000.csv'\n",
    "loader = CSVLoader(file_path=file)"
   ]
  },
  {
   "cell_type": "code",
   "execution_count": 9,
   "id": "3cb90e5c-fa52-4a29-85c8-f85949fc76e9",
   "metadata": {},
   "outputs": [],
   "source": [
    "from langchain.indexes import VectorstoreIndexCreator\n",
    "embeddings = OpenAIEmbeddings()  "
   ]
  },
  {
   "cell_type": "code",
   "execution_count": 10,
   "id": "cbbe0d56-16db-4bc8-95ae-ae9226a95af7",
   "metadata": {},
   "outputs": [
    {
     "name": "stderr",
     "output_type": "stream",
     "text": [
      "/Users/shankar/work/a.team/pocs/new/ai-agents/.venv/lib/python3.12/site-packages/pydantic/_migration.py:283: UserWarning: `pydantic.error_wrappers:ValidationError` has been moved to `pydantic:ValidationError`.\n",
      "  warnings.warn(f'`{import_path}` has been moved to `{new_location}`.')\n"
     ]
    }
   ],
   "source": [
    "index = VectorstoreIndexCreator(\n",
    "    vectorstore_cls=DocArrayInMemorySearch,\n",
    "    embedding=embeddings\n",
    ").from_loaders([loader])"
   ]
  },
  {
   "cell_type": "code",
   "execution_count": 11,
   "id": "09d1c302-4183-4896-9740-ed3c49462304",
   "metadata": {},
   "outputs": [],
   "source": [
    "query =\"Please list all your shirts with sun protection \\\n",
    "in a table in markdown and summarize each one.\""
   ]
  },
  {
   "cell_type": "code",
   "execution_count": 17,
   "id": "ff257ee1-16a1-4fb4-b14e-a7e46a118a93",
   "metadata": {},
   "outputs": [],
   "source": [
    "llm_replacement_model = ChatOpenAI(temperature=0, \n",
    "                               model='gpt-4o')\n",
    "\n",
    "response = index.query(query, \n",
    "                       llm = llm_replacement_model)"
   ]
  },
  {
   "cell_type": "code",
   "execution_count": 18,
   "id": "b9faa6f8-8b95-4ca4-b06f-a8d267d85c2a",
   "metadata": {},
   "outputs": [
    {
     "data": {
      "text/markdown": [
       "Here is a table summarizing the shirts with sun protection:\n",
       "\n",
       "| Name                                      | Summary                                                                                           |\n",
       "|-------------------------------------------|---------------------------------------------------------------------------------------------------|\n",
       "| Men's Tropical Plaid Short-Sleeve Shirt   | A lightweight, wrinkle-resistant shirt with UPF 50+ sun protection, made of 100% polyester. Features front and back cape venting and two front bellows pockets. Imported. |\n",
       "| Men's Plaid Tropic Shirt, Short-Sleeve    | Designed for fishing, this shirt offers UPF 50+ coverage, is wrinkle-free, and quickly evaporates perspiration. Made of 52% polyester and 48% nylon, it includes front and back cape venting and two front bellows pockets. Imported. |\n",
       "| Men's TropicVibe Shirt, Short-Sleeve      | A lightweight shirt with UPF 50+ sun protection, made of 71% nylon and 29% polyester. Features front and back cape venting and two front bellows pockets. Imported. |\n",
       "| Sun Shield Shirt                          | A high-performance sun shirt with UPF 50+ protection, made of 78% nylon and 22% Lycra Xtra Life fiber. It wicks moisture, is abrasion-resistant, and fits comfortably over swimsuits. Handwash and line dry. Imported. |\n",
       "\n",
       "Each shirt provides the highest rated sun protection possible, blocking 98% of the sun's harmful rays."
      ],
      "text/plain": [
       "<IPython.core.display.Markdown object>"
      ]
     },
     "metadata": {},
     "output_type": "display_data"
    }
   ],
   "source": [
    "display(Markdown(response))"
   ]
  },
  {
   "cell_type": "markdown",
   "id": "0041e3a5-7c36-4d99-9d04-876f50b11233",
   "metadata": {},
   "source": [
    "### Step by Step"
   ]
  },
  {
   "cell_type": "code",
   "execution_count": 19,
   "id": "9f47d510-88f4-4e01-90bd-85646cee002e",
   "metadata": {},
   "outputs": [],
   "source": [
    "from langchain.document_loaders import CSVLoader\n",
    "loader = CSVLoader(file_path=file)"
   ]
  },
  {
   "cell_type": "code",
   "execution_count": 20,
   "id": "a5009969-fb31-4151-8121-771314c9ab0d",
   "metadata": {},
   "outputs": [],
   "source": [
    "docs = loader.load()"
   ]
  },
  {
   "cell_type": "code",
   "execution_count": 21,
   "id": "4c65a062-6b83-41c2-b7be-4b6b9a31e69b",
   "metadata": {},
   "outputs": [
    {
     "data": {
      "text/plain": [
       "Document(metadata={'source': 'OutdoorClothingCatalog_1000.csv', 'row': 0}, page_content=\": 0\\nname: Women's Campside Oxfords\\ndescription: This ultracomfortable lace-to-toe Oxford boasts a super-soft canvas, thick cushioning, and quality construction for a broken-in feel from the first time you put them on. \\n\\nSize & Fit: Order regular shoe size. For half sizes not offered, order up to next whole size. \\n\\nSpecs: Approx. weight: 1 lb.1 oz. per pair. \\n\\nConstruction: Soft canvas material for a broken-in feel and look. Comfortable EVA innersole with Cleansport NXT® antimicrobial odor control. Vintage hunt, fish and camping motif on innersole. Moderate arch contour of innersole. EVA foam midsole for cushioning and support. Chain-tread-inspired molded rubber outsole with modified chain-tread pattern. Imported. \\n\\nQuestions? Please contact us for any inquiries.\")"
      ]
     },
     "execution_count": 21,
     "metadata": {},
     "output_type": "execute_result"
    }
   ],
   "source": [
    "docs[0]"
   ]
  },
  {
   "cell_type": "code",
   "execution_count": 22,
   "id": "4f293c57-fb3b-4380-be0c-5aaeb44b9eb6",
   "metadata": {},
   "outputs": [],
   "source": [
    "from langchain_openai import OpenAIEmbeddings\n",
    "embeddings = OpenAIEmbeddings()"
   ]
  },
  {
   "cell_type": "code",
   "execution_count": 23,
   "id": "15a88a62-99a8-42cb-8bb4-a6ebe8caf591",
   "metadata": {},
   "outputs": [],
   "source": [
    "embed = embeddings.embed_query(\"Hi my name is Shankar\")"
   ]
  },
  {
   "cell_type": "code",
   "execution_count": 24,
   "id": "e4707088-d47d-4cdf-8580-a81d754e44d5",
   "metadata": {},
   "outputs": [
    {
     "name": "stdout",
     "output_type": "stream",
     "text": [
      "1536\n"
     ]
    }
   ],
   "source": [
    "print(len(embed))"
   ]
  },
  {
   "cell_type": "code",
   "execution_count": 25,
   "id": "1ddd54c1-102a-4fc5-bb87-1a61cb3360d7",
   "metadata": {},
   "outputs": [
    {
     "name": "stdout",
     "output_type": "stream",
     "text": [
      "[-0.001580761861987412, -0.012852772139012814, -0.005415603052824736, -0.03133751451969147, -0.018613914027810097, 0.015630004927515984, -0.023083321750164032, -0.016960492357611656, -0.009093821048736572, -0.005095898173749447]\n"
     ]
    }
   ],
   "source": [
    "print(embed[:10])"
   ]
  },
  {
   "cell_type": "code",
   "execution_count": 26,
   "id": "d21b0be2-8309-4fbf-b312-e413998bcc25",
   "metadata": {},
   "outputs": [],
   "source": [
    "db = DocArrayInMemorySearch.from_documents(\n",
    "    docs, \n",
    "    embeddings\n",
    ")"
   ]
  },
  {
   "cell_type": "code",
   "execution_count": 27,
   "id": "1014eff2-e221-4dfb-88e7-338b98f1e711",
   "metadata": {},
   "outputs": [
    {
     "data": {
      "text/plain": [
       "4"
      ]
     },
     "execution_count": 27,
     "metadata": {},
     "output_type": "execute_result"
    }
   ],
   "source": [
    "query = \"Please suggest a shirt with sunblocking\"\n",
    "docs = db.similarity_search(query)\n",
    "len(docs)"
   ]
  },
  {
   "cell_type": "code",
   "execution_count": 28,
   "id": "5f56665b-1f68-4459-9b67-f754583c6725",
   "metadata": {},
   "outputs": [
    {
     "data": {
      "text/plain": [
       "Document(metadata={'source': 'OutdoorClothingCatalog_1000.csv', 'row': 255}, page_content=': 255\\nname: Sun Shield Shirt by\\ndescription: \"Block the sun, not the fun – our high-performance sun shirt is guaranteed to protect from harmful UV rays. \\n\\nSize & Fit: Slightly Fitted: Softly shapes the body. Falls at hip.\\n\\nFabric & Care: 78% nylon, 22% Lycra Xtra Life fiber. UPF 50+ rated – the highest rated sun protection possible. Handwash, line dry.\\n\\nAdditional Features: Wicks moisture for quick-drying comfort. Fits comfortably over your favorite swimsuit. Abrasion resistant for season after season of wear. Imported.\\n\\nSun Protection That Won\\'t Wear Off\\nOur high-performance fabric provides SPF 50+ sun protection, blocking 98% of the sun\\'s harmful rays. This fabric is recommended by The Skin Cancer Foundation as an effective UV protectant.')"
      ]
     },
     "execution_count": 28,
     "metadata": {},
     "output_type": "execute_result"
    }
   ],
   "source": [
    "docs[0]"
   ]
  },
  {
   "cell_type": "code",
   "execution_count": 29,
   "id": "48dd135b-ef49-4f6a-999f-d6a1f58f04a7",
   "metadata": {},
   "outputs": [],
   "source": [
    "retriever = db.as_retriever()"
   ]
  },
  {
   "cell_type": "code",
   "execution_count": 31,
   "id": "9f8ed61c-f8d7-40bd-829b-badba5c6e60e",
   "metadata": {},
   "outputs": [],
   "source": [
    "llm = ChatOpenAI(temperature = 0.0, model=MODEL)"
   ]
  },
  {
   "cell_type": "code",
   "execution_count": 32,
   "id": "291569c6-4a71-4dca-84bd-35c58f205630",
   "metadata": {},
   "outputs": [],
   "source": [
    "qdocs = \"\".join([docs[i].page_content for i in range(len(docs))])\n"
   ]
  },
  {
   "cell_type": "code",
   "execution_count": 34,
   "id": "5e148b14-3529-4040-9f49-99702820cfdb",
   "metadata": {},
   "outputs": [],
   "source": [
    "response = llm.invoke(f\"{qdocs} Question: Please list all your \\\n",
    "shirts with sun protection in a table in markdown and summarize each one.\") \n"
   ]
  },
  {
   "cell_type": "code",
   "execution_count": 36,
   "id": "74b8ebc3-3dce-4526-a48d-c17ad899fc5b",
   "metadata": {},
   "outputs": [
    {
     "data": {
      "text/markdown": [
       "Here’s a summary of the shirts with sun protection in a markdown table format:\n",
       "\n",
       "| Name                                   | Description Summary                                                                                                                                                                                                                     |\n",
       "|----------------------------------------|-------------------------------------------------------------------------------------------------------------------------------------------------------------------------------------------------------------------------------------------|\n",
       "| **Sun Shield Shirt**                  | High-performance sun shirt with UPF 50+ protection, blocking 98% of UV rays. Slightly fitted, made of 78% nylon and 22% Lycra Xtra Life fiber. Features moisture-wicking, abrasion resistance, and is comfortable over swimsuits.               |\n",
       "| **Men's Plaid Tropic Shirt, Short-Sleeve** | Lightweight, UPF 50+ rated shirt originally designed for fishing. Made of 52% polyester and 48% nylon, it is wrinkle-free and evaporates perspiration quickly. Features cape venting and two front bellows pockets for added comfort.         |\n",
       "| **Men's TropicVibe Shirt, Short-Sleeve** | Lightweight sun-protection shirt with UPF 50+ rating. Traditional fit, made of 71% nylon and 29% polyester. Features include wrinkle resistance, cape venting, and two front bellows pockets. Machine washable and dryable.                     |\n",
       "| **Men's Tropical Plaid Short-Sleeve Shirt** | Lightest hot-weather shirt with UPF 50+ protection, made of 100% polyester. Traditional fit with front and back cape venting and two front bellows pockets. Provides high-performance sun protection, blocking 98% of harmful rays.               |\n",
       "\n",
       "This table summarizes the key features and benefits of each shirt, highlighting their sun protection capabilities."
      ],
      "text/plain": [
       "<IPython.core.display.Markdown object>"
      ]
     },
     "metadata": {},
     "output_type": "display_data"
    }
   ],
   "source": [
    "display(Markdown(response.content))"
   ]
  },
  {
   "cell_type": "code",
   "execution_count": 37,
   "id": "63c1fe61-4414-4498-bf54-2c1eb2b473b9",
   "metadata": {},
   "outputs": [],
   "source": [
    "qa_stuff = RetrievalQA.from_chain_type(\n",
    "    llm=llm, \n",
    "    chain_type=\"stuff\", \n",
    "    retriever=retriever, \n",
    "    verbose=True\n",
    ")"
   ]
  },
  {
   "cell_type": "code",
   "execution_count": 38,
   "id": "0eb0f6bd-5bfe-45a1-b1a3-4652012ed9b2",
   "metadata": {},
   "outputs": [],
   "source": [
    "query =  \"Please list all your shirts with sun protection in a table \\\n",
    "in markdown and summarize each one.\""
   ]
  },
  {
   "cell_type": "code",
   "execution_count": 40,
   "id": "8c22514e-0219-4d68-af0f-1cd6d375cd91",
   "metadata": {},
   "outputs": [
    {
     "name": "stdout",
     "output_type": "stream",
     "text": [
      "\n",
      "\n",
      "\u001b[1m> Entering new RetrievalQA chain...\u001b[0m\n",
      "\n",
      "\u001b[1m> Finished chain.\u001b[0m\n"
     ]
    }
   ],
   "source": [
    "response = qa_stuff.invoke(query)"
   ]
  },
  {
   "cell_type": "code",
   "execution_count": 46,
   "id": "a082dece-66a1-4c54-b317-b7f68cdac30a",
   "metadata": {},
   "outputs": [
    {
     "data": {
      "text/markdown": [
       "Here is a table listing all the shirts with sun protection along with a summary of each:\n",
       "\n",
       "| Name                                      | Description Summary                                                                                          |\n",
       "|-------------------------------------------|--------------------------------------------------------------------------------------------------------------|\n",
       "| Men's Tropical Plaid Short-Sleeve Shirt   | Lightweight, UPF 50+ rated for sun protection, made of 100% polyester, wrinkle-resistant, with cape venting and two front pockets. |\n",
       "| Men's Plaid Tropic Shirt, Short-Sleeve    | Designed for fishing, UPF 50+ coverage, made of 52% polyester and 48% nylon, wrinkle-free, evaporates perspiration, with cape venting and two front pockets. |\n",
       "| Men's TropicVibe Shirt, Short-Sleeve      | Lightweight, UPF 50+ rated, made of 71% nylon and 29% polyester, wrinkle-resistant, with cape venting and two front pockets. |\n",
       "| Sun Shield Shirt                          | Slightly fitted, UPF 50+ rated, made of 78% nylon and 22% Lycra Xtra Life fiber, moisture-wicking, abrasion resistant, recommended by The Skin Cancer Foundation. |"
      ],
      "text/plain": [
       "<IPython.core.display.Markdown object>"
      ]
     },
     "metadata": {},
     "output_type": "display_data"
    }
   ],
   "source": [
    "display(Markdown(response[\"result\"]))"
   ]
  },
  {
   "cell_type": "code",
   "execution_count": 47,
   "id": "f3abc725-36a5-49b8-b1a7-88dca7752420",
   "metadata": {},
   "outputs": [],
   "source": [
    "response = index.query(query, llm=llm)"
   ]
  },
  {
   "cell_type": "code",
   "execution_count": 48,
   "id": "d00a09e3-b57e-4d93-a928-cf231a379d6e",
   "metadata": {},
   "outputs": [],
   "source": [
    "index = VectorstoreIndexCreator(\n",
    "    vectorstore_cls=DocArrayInMemorySearch,\n",
    "    embedding=embeddings,\n",
    ").from_loaders([loader])"
   ]
  },
  {
   "cell_type": "code",
   "execution_count": null,
   "id": "d9dab2ba-0ad9-427b-a443-0de3014bec94",
   "metadata": {},
   "outputs": [],
   "source": []
  }
 ],
 "metadata": {
  "kernelspec": {
   "display_name": "Python 3 (ipykernel)",
   "language": "python",
   "name": "python3"
  },
  "language_info": {
   "codemirror_mode": {
    "name": "ipython",
    "version": 3
   },
   "file_extension": ".py",
   "mimetype": "text/x-python",
   "name": "python",
   "nbconvert_exporter": "python",
   "pygments_lexer": "ipython3",
   "version": "3.12.0"
  }
 },
 "nbformat": 4,
 "nbformat_minor": 5
}

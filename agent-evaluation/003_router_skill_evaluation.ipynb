{
 "cells": [
  {
   "cell_type": "markdown",
   "id": "b1f53d5c-aca6-4e9e-8146-3802c3004845",
   "metadata": {},
   "source": [
    "# Router & Skill Evaluation"
   ]
  },
  {
   "cell_type": "code",
   "execution_count": 1,
   "id": "bd900861-2dde-45c1-92fb-2d8e4280572f",
   "metadata": {},
   "outputs": [],
   "source": [
    "import warnings\n",
    "warnings.filterwarnings('ignore')"
   ]
  },
  {
   "cell_type": "code",
   "execution_count": 2,
   "id": "171e3c0f-9940-481a-9a4e-1b138f89b0b9",
   "metadata": {},
   "outputs": [],
   "source": [
    "import phoenix as px\n",
    "import os\n",
    "import json\n",
    "from tqdm import tqdm\n",
    "from phoenix.evals import (\n",
    "    TOOL_CALLING_PROMPT_TEMPLATE, \n",
    "    llm_classify,\n",
    "    OpenAIModel\n",
    ")\n",
    "from phoenix.trace import SpanEvaluations\n",
    "from phoenix.trace.dsl import SpanQuery\n",
    "from openinference.instrumentation import suppress_tracing\n",
    "\n",
    "import nest_asyncio\n",
    "nest_asyncio.apply()"
   ]
  },
  {
   "cell_type": "code",
   "execution_count": 3,
   "id": "4857d7de-afdc-43b8-9a5c-d86412229016",
   "metadata": {},
   "outputs": [],
   "source": [
    "PROJECT_NAME = \"evaluating-agent\""
   ]
  },
  {
   "cell_type": "code",
   "execution_count": 5,
   "id": "c578d4df-484c-490f-8e10-1230e4c29f2c",
   "metadata": {},
   "outputs": [
    {
     "name": "stdout",
     "output_type": "stream",
     "text": [
      "🔭 OpenTelemetry Tracing Details 🔭\n",
      "|  Phoenix Project: evaluating-agent\n",
      "|  Span Processor: SimpleSpanProcessor\n",
      "|  Collector Endpoint: http://localhost:6006/v1/traces\n",
      "|  Transport: HTTP + protobuf\n",
      "|  Transport Headers: {}\n",
      "|  \n",
      "|  Using a default SpanProcessor. `add_span_processor` will overwrite this default.\n",
      "|  \n",
      "|  ⚠️ WARNING: It is strongly advised to use a BatchSpanProcessor in production environments.\n",
      "|  \n",
      "|  `register` has set this TracerProvider as the global OpenTelemetry default.\n",
      "|  To disable this behavior, call `register` with `set_global_tracer_provider=False`.\n",
      "\n"
     ]
    }
   ],
   "source": [
    "from utils import run_agent, start_main_span, tools, get_phoenix_endpoint"
   ]
  },
  {
   "cell_type": "code",
   "execution_count": 6,
   "id": "41c1ae9d-c64a-492d-b98b-861df7b55131",
   "metadata": {},
   "outputs": [
    {
     "name": "stderr",
     "output_type": "stream",
     "text": [
      "Processing questions:   0%|                                                                                                                                              | 0/6 [00:00<?, ?it/s]"
     ]
    },
    {
     "name": "stdout",
     "output_type": "stream",
     "text": [
      "Starting main span with messages: [{'role': 'user', 'content': 'What was the most popular product SKU?'}]\n",
      "Running agent with messages: [{'role': 'user', 'content': 'What was the most popular product SKU?'}]\n",
      "Starting router call span\n",
      "Received response with tool calls: True\n",
      "Starting tool calls span\n",
      "Starting router call span\n"
     ]
    },
    {
     "name": "stderr",
     "output_type": "stream",
     "text": [
      "Processing questions:  17%|██████████████████████▎                                                                                                               | 1/6 [00:09<00:47,  9.55s/it]"
     ]
    },
    {
     "name": "stdout",
     "output_type": "stream",
     "text": [
      "Received response with tool calls: False\n",
      "No tool calls, returning final response\n",
      "Starting main span with messages: [{'role': 'user', 'content': 'What was the total revenue across all stores?'}]\n",
      "Running agent with messages: [{'role': 'user', 'content': 'What was the total revenue across all stores?'}]\n",
      "Starting router call span\n",
      "Received response with tool calls: True\n",
      "Starting tool calls span\n",
      "Starting router call span\n"
     ]
    },
    {
     "name": "stderr",
     "output_type": "stream",
     "text": [
      "Processing questions:  33%|████████████████████████████████████████████▋                                                                                         | 2/6 [00:14<00:26,  6.69s/it]"
     ]
    },
    {
     "name": "stdout",
     "output_type": "stream",
     "text": [
      "Received response with tool calls: False\n",
      "No tool calls, returning final response\n",
      "Starting main span with messages: [{'role': 'user', 'content': 'Which store had the highest sales volume?'}]\n",
      "Running agent with messages: [{'role': 'user', 'content': 'Which store had the highest sales volume?'}]\n",
      "Starting router call span\n",
      "Received response with tool calls: True\n",
      "Starting tool calls span\n",
      "Starting router call span\n"
     ]
    },
    {
     "name": "stderr",
     "output_type": "stream",
     "text": [
      "Processing questions:  50%|███████████████████████████████████████████████████████████████████                                                                   | 3/6 [00:18<00:17,  5.78s/it]"
     ]
    },
    {
     "name": "stdout",
     "output_type": "stream",
     "text": [
      "Received response with tool calls: False\n",
      "No tool calls, returning final response\n",
      "Starting main span with messages: [{'role': 'user', 'content': 'Create a bar chart showing total sales by store'}]\n",
      "Running agent with messages: [{'role': 'user', 'content': 'Create a bar chart showing total sales by store'}]\n",
      "Starting router call span\n",
      "Received response with tool calls: True\n",
      "Starting tool calls span\n",
      "Starting router call span\n",
      "Received response with tool calls: True\n",
      "Starting tool calls span\n",
      "Starting router call span\n"
     ]
    },
    {
     "name": "stderr",
     "output_type": "stream",
     "text": [
      "Processing questions:  67%|█████████████████████████████████████████████████████████████████████████████████████████▎                                            | 4/6 [00:59<00:38, 19.50s/it]"
     ]
    },
    {
     "name": "stdout",
     "output_type": "stream",
     "text": [
      "Received response with tool calls: False\n",
      "No tool calls, returning final response\n",
      "Starting main span with messages: [{'role': 'user', 'content': 'What percentage of items were sold on promotion?'}]\n",
      "Running agent with messages: [{'role': 'user', 'content': 'What percentage of items were sold on promotion?'}]\n",
      "Starting router call span\n",
      "Received response with tool calls: True\n",
      "Starting tool calls span\n",
      "Starting router call span\n"
     ]
    },
    {
     "name": "stderr",
     "output_type": "stream",
     "text": [
      "Processing questions:  83%|███████████████████████████████████████████████████████████████████████████████████████████████████████████████▋                      | 5/6 [01:03<00:13, 13.89s/it]"
     ]
    },
    {
     "name": "stdout",
     "output_type": "stream",
     "text": [
      "Received response with tool calls: False\n",
      "No tool calls, returning final response\n",
      "Starting main span with messages: [{'role': 'user', 'content': 'What was the average transaction value?'}]\n",
      "Running agent with messages: [{'role': 'user', 'content': 'What was the average transaction value?'}]\n",
      "Starting router call span\n",
      "Received response with tool calls: True\n",
      "Starting tool calls span\n",
      "Starting router call span\n"
     ]
    },
    {
     "name": "stderr",
     "output_type": "stream",
     "text": [
      "Processing questions: 100%|██████████████████████████████████████████████████████████████████████████████████████████████████████████████████████████████████████| 6/6 [01:08<00:00, 11.36s/it]"
     ]
    },
    {
     "name": "stdout",
     "output_type": "stream",
     "text": [
      "Received response with tool calls: False\n",
      "No tool calls, returning final response\n"
     ]
    },
    {
     "name": "stderr",
     "output_type": "stream",
     "text": [
      "\n"
     ]
    }
   ],
   "source": [
    "agent_questions = [\n",
    "    \"What was the most popular product SKU?\",\n",
    "    \"What was the total revenue across all stores?\",\n",
    "    \"Which store had the highest sales volume?\",\n",
    "    \"Create a bar chart showing total sales by store\",\n",
    "    \"What percentage of items were sold on promotion?\",\n",
    "    \"What was the average transaction value?\"\n",
    "]\n",
    "\n",
    "for question in tqdm(agent_questions, desc=\"Processing questions\"):\n",
    "    try:\n",
    "        ret = start_main_span([{\"role\": \"user\", \"content\": question}])\n",
    "    except Exception as e:\n",
    "        print(f\"Error processing question: {question}\")\n",
    "        print(e)\n",
    "        continue"
   ]
  },
  {
   "cell_type": "code",
   "execution_count": 7,
   "id": "1da52e43-33cd-4a7e-b94e-22aa57471251",
   "metadata": {},
   "outputs": [
    {
     "name": "stdout",
     "output_type": "stream",
     "text": [
      "http://localhost:6006/\n"
     ]
    }
   ],
   "source": [
    "print(get_phoenix_endpoint())"
   ]
  },
  {
   "cell_type": "code",
   "execution_count": 8,
   "id": "eaacdf8f-2740-4178-bfb2-05dd92a5dc8a",
   "metadata": {},
   "outputs": [
    {
     "name": "stdout",
     "output_type": "stream",
     "text": [
      "\n",
      "You are an evaluation assistant evaluating questions and tool calls to\n",
      "determine whether the tool called would answer the question. The tool\n",
      "calls have been generated by a separate agent, and chosen from the list of\n",
      "tools provided below. It is your job to decide whether that agent chose\n",
      "the right tool to call.\n",
      "\n",
      "    [BEGIN DATA]\n",
      "    ************\n",
      "    [Question]: {question}\n",
      "    ************\n",
      "    [Tool Called]: {tool_call}\n",
      "    [END DATA]\n",
      "\n",
      "Your response must be single word, either \"correct\" or \"incorrect\",\n",
      "and should not contain any text or characters aside from that word.\n",
      "\"incorrect\" means that the chosen tool would not answer the question,\n",
      "the tool includes information that is not presented in the question,\n",
      "or that the tool signature includes parameter values that don't match\n",
      "the formats specified in the tool signatures below.\n",
      "\n",
      "\"correct\" means the correct tool call was chosen, the correct parameters\n",
      "were extracted from the question, the tool call generated is runnable and correct,\n",
      "and that no outside information not present in the question was used\n",
      "in the generated question.\n",
      "\n",
      "    [Tool Definitions]: {tool_definitions}\n",
      "\n"
     ]
    }
   ],
   "source": [
    "print(TOOL_CALLING_PROMPT_TEMPLATE)"
   ]
  },
  {
   "cell_type": "code",
   "execution_count": 9,
   "id": "2b451fed-dbea-4aec-b282-0beb83a72945",
   "metadata": {},
   "outputs": [
    {
     "data": {
      "text/html": [
       "<div>\n",
       "<style scoped>\n",
       "    .dataframe tbody tr th:only-of-type {\n",
       "        vertical-align: middle;\n",
       "    }\n",
       "\n",
       "    .dataframe tbody tr th {\n",
       "        vertical-align: top;\n",
       "    }\n",
       "\n",
       "    .dataframe thead th {\n",
       "        text-align: right;\n",
       "    }\n",
       "</style>\n",
       "<table border=\"1\" class=\"dataframe\">\n",
       "  <thead>\n",
       "    <tr style=\"text-align: right;\">\n",
       "      <th></th>\n",
       "      <th>question</th>\n",
       "      <th>tool_call</th>\n",
       "    </tr>\n",
       "    <tr>\n",
       "      <th>context.span_id</th>\n",
       "      <th></th>\n",
       "      <th></th>\n",
       "    </tr>\n",
       "  </thead>\n",
       "  <tbody>\n",
       "    <tr>\n",
       "      <th>bd3497b306f5c513</th>\n",
       "      <td>{\"messages\": [{\"role\": \"user\", \"content\": \"Wha...</td>\n",
       "      <td>[{'tool': {'json_schema': '{\"type\": \"function\"...</td>\n",
       "    </tr>\n",
       "    <tr>\n",
       "      <th>eed54f1412350e6b</th>\n",
       "      <td>{\"messages\": [{\"role\": \"user\", \"content\": \"Wha...</td>\n",
       "      <td>[{'tool': {'json_schema': '{\"type\": \"function\"...</td>\n",
       "    </tr>\n",
       "    <tr>\n",
       "      <th>bab11e00107be2e3</th>\n",
       "      <td>{\"messages\": [{\"role\": \"user\", \"content\": \"Wha...</td>\n",
       "      <td>[{'tool': {'json_schema': '{\"type\": \"function\"...</td>\n",
       "    </tr>\n",
       "    <tr>\n",
       "      <th>ff0ee0e6eda31990</th>\n",
       "      <td>{\"messages\": [{\"role\": \"user\", \"content\": \"Wha...</td>\n",
       "      <td>[{'tool': {'json_schema': '{\"type\": \"function\"...</td>\n",
       "    </tr>\n",
       "    <tr>\n",
       "      <th>443a821556f5c169</th>\n",
       "      <td>{\"messages\": [{\"role\": \"user\", \"content\": \"Whi...</td>\n",
       "      <td>[{'tool': {'json_schema': '{\"type\": \"function\"...</td>\n",
       "    </tr>\n",
       "  </tbody>\n",
       "</table>\n",
       "</div>"
      ],
      "text/plain": [
       "                                                           question  \\\n",
       "context.span_id                                                       \n",
       "bd3497b306f5c513  {\"messages\": [{\"role\": \"user\", \"content\": \"Wha...   \n",
       "eed54f1412350e6b  {\"messages\": [{\"role\": \"user\", \"content\": \"Wha...   \n",
       "bab11e00107be2e3  {\"messages\": [{\"role\": \"user\", \"content\": \"Wha...   \n",
       "ff0ee0e6eda31990  {\"messages\": [{\"role\": \"user\", \"content\": \"Wha...   \n",
       "443a821556f5c169  {\"messages\": [{\"role\": \"user\", \"content\": \"Whi...   \n",
       "\n",
       "                                                          tool_call  \n",
       "context.span_id                                                      \n",
       "bd3497b306f5c513  [{'tool': {'json_schema': '{\"type\": \"function\"...  \n",
       "eed54f1412350e6b  [{'tool': {'json_schema': '{\"type\": \"function\"...  \n",
       "bab11e00107be2e3  [{'tool': {'json_schema': '{\"type\": \"function\"...  \n",
       "ff0ee0e6eda31990  [{'tool': {'json_schema': '{\"type\": \"function\"...  \n",
       "443a821556f5c169  [{'tool': {'json_schema': '{\"type\": \"function\"...  "
      ]
     },
     "execution_count": 9,
     "metadata": {},
     "output_type": "execute_result"
    }
   ],
   "source": [
    "query = SpanQuery().where(\n",
    "    # Filter for the `LLM` span kind.\n",
    "    # The filter condition is a string of valid Python boolean expression.\n",
    "    \"span_kind == 'LLM'\",\n",
    ").select(\n",
    "    question=\"input.value\",\n",
    "    tool_call=\"llm.tools\"\n",
    ")\n",
    "\n",
    "# The Phoenix Client can take this query and return the dataframe.\n",
    "tool_calls_df = px.Client().query_spans(query, \n",
    "                                        project_name=PROJECT_NAME, \n",
    "                                        timeout=None)\n",
    "tool_calls_df = tool_calls_df.dropna(subset=[\"tool_call\"])\n",
    "\n",
    "tool_calls_df.head()"
   ]
  },
  {
   "cell_type": "code",
   "execution_count": 10,
   "id": "a39fe39f-c3e6-48c1-87d2-514ca762e623",
   "metadata": {},
   "outputs": [
    {
     "data": {
      "application/vnd.jupyter.widget-view+json": {
       "model_id": "0734c7f0174647eaae59782bb6e9597c",
       "version_major": 2,
       "version_minor": 0
      },
      "text/plain": [
       "llm_classify |          | 0/13 (0.0%) | ⏳ 00:00<? | ?it/s"
      ]
     },
     "metadata": {},
     "output_type": "display_data"
    },
    {
     "data": {
      "text/html": [
       "<div>\n",
       "<style scoped>\n",
       "    .dataframe tbody tr th:only-of-type {\n",
       "        vertical-align: middle;\n",
       "    }\n",
       "\n",
       "    .dataframe tbody tr th {\n",
       "        vertical-align: top;\n",
       "    }\n",
       "\n",
       "    .dataframe thead th {\n",
       "        text-align: right;\n",
       "    }\n",
       "</style>\n",
       "<table border=\"1\" class=\"dataframe\">\n",
       "  <thead>\n",
       "    <tr style=\"text-align: right;\">\n",
       "      <th></th>\n",
       "      <th>label</th>\n",
       "      <th>explanation</th>\n",
       "      <th>exceptions</th>\n",
       "      <th>execution_status</th>\n",
       "      <th>execution_seconds</th>\n",
       "      <th>score</th>\n",
       "    </tr>\n",
       "    <tr>\n",
       "      <th>context.span_id</th>\n",
       "      <th></th>\n",
       "      <th></th>\n",
       "      <th></th>\n",
       "      <th></th>\n",
       "      <th></th>\n",
       "      <th></th>\n",
       "    </tr>\n",
       "  </thead>\n",
       "  <tbody>\n",
       "    <tr>\n",
       "      <th>bd3497b306f5c513</th>\n",
       "      <td>correct</td>\n",
       "      <td>The question asks for the most popular product...</td>\n",
       "      <td>[]</td>\n",
       "      <td>COMPLETED</td>\n",
       "      <td>4.266414</td>\n",
       "      <td>1</td>\n",
       "    </tr>\n",
       "    <tr>\n",
       "      <th>eed54f1412350e6b</th>\n",
       "      <td>correct</td>\n",
       "      <td>The tool 'lookup_sales_data' is appropriate fo...</td>\n",
       "      <td>[]</td>\n",
       "      <td>COMPLETED</td>\n",
       "      <td>3.994582</td>\n",
       "      <td>1</td>\n",
       "    </tr>\n",
       "    <tr>\n",
       "      <th>bab11e00107be2e3</th>\n",
       "      <td>correct</td>\n",
       "      <td>The question asks for the total revenue across...</td>\n",
       "      <td>[]</td>\n",
       "      <td>COMPLETED</td>\n",
       "      <td>3.506545</td>\n",
       "      <td>1</td>\n",
       "    </tr>\n",
       "    <tr>\n",
       "      <th>ff0ee0e6eda31990</th>\n",
       "      <td>correct</td>\n",
       "      <td>The question asks for the total revenue across...</td>\n",
       "      <td>[]</td>\n",
       "      <td>COMPLETED</td>\n",
       "      <td>4.450480</td>\n",
       "      <td>1</td>\n",
       "    </tr>\n",
       "    <tr>\n",
       "      <th>443a821556f5c169</th>\n",
       "      <td>correct</td>\n",
       "      <td>The question asks for the store with the highe...</td>\n",
       "      <td>[]</td>\n",
       "      <td>COMPLETED</td>\n",
       "      <td>3.570715</td>\n",
       "      <td>1</td>\n",
       "    </tr>\n",
       "  </tbody>\n",
       "</table>\n",
       "</div>"
      ],
      "text/plain": [
       "                    label                                        explanation  \\\n",
       "context.span_id                                                                \n",
       "bd3497b306f5c513  correct  The question asks for the most popular product...   \n",
       "eed54f1412350e6b  correct  The tool 'lookup_sales_data' is appropriate fo...   \n",
       "bab11e00107be2e3  correct  The question asks for the total revenue across...   \n",
       "ff0ee0e6eda31990  correct  The question asks for the total revenue across...   \n",
       "443a821556f5c169  correct  The question asks for the store with the highe...   \n",
       "\n",
       "                 exceptions execution_status  execution_seconds  score  \n",
       "context.span_id                                                         \n",
       "bd3497b306f5c513         []        COMPLETED           4.266414      1  \n",
       "eed54f1412350e6b         []        COMPLETED           3.994582      1  \n",
       "bab11e00107be2e3         []        COMPLETED           3.506545      1  \n",
       "ff0ee0e6eda31990         []        COMPLETED           4.450480      1  \n",
       "443a821556f5c169         []        COMPLETED           3.570715      1  "
      ]
     },
     "execution_count": 10,
     "metadata": {},
     "output_type": "execute_result"
    }
   ],
   "source": [
    "with suppress_tracing():\n",
    "    tool_call_eval = llm_classify(\n",
    "        dataframe = tool_calls_df,\n",
    "        template = TOOL_CALLING_PROMPT_TEMPLATE.template[0].template.replace(\"{tool_definitions}\", \n",
    "                                                                 json.dumps(tools).replace(\"{\", '\"').replace(\"}\", '\"')),\n",
    "        rails = ['correct', 'incorrect'],\n",
    "        model=OpenAIModel(model=\"gpt-4o\"),\n",
    "        provide_explanation=True\n",
    "    )\n",
    "\n",
    "tool_call_eval['score'] = tool_call_eval.apply(lambda x: 1 if x['label']=='correct' else 0, axis=1)\n",
    "\n",
    "tool_call_eval.head()"
   ]
  },
  {
   "cell_type": "code",
   "execution_count": 11,
   "id": "9755f442-7c96-45e1-890e-1390ff85c81f",
   "metadata": {},
   "outputs": [],
   "source": [
    "px.Client().log_evaluations(\n",
    "    SpanEvaluations(eval_name=\"Tool Calling Eval\", dataframe=tool_call_eval),\n",
    ")"
   ]
  },
  {
   "cell_type": "code",
   "execution_count": 12,
   "id": "a520a606-614d-48c7-9d2a-aa9c30e4d6e8",
   "metadata": {},
   "outputs": [
    {
     "data": {
      "text/html": [
       "<div>\n",
       "<style scoped>\n",
       "    .dataframe tbody tr th:only-of-type {\n",
       "        vertical-align: middle;\n",
       "    }\n",
       "\n",
       "    .dataframe tbody tr th {\n",
       "        vertical-align: top;\n",
       "    }\n",
       "\n",
       "    .dataframe thead th {\n",
       "        text-align: right;\n",
       "    }\n",
       "</style>\n",
       "<table border=\"1\" class=\"dataframe\">\n",
       "  <thead>\n",
       "    <tr style=\"text-align: right;\">\n",
       "      <th></th>\n",
       "      <th>generated_code</th>\n",
       "    </tr>\n",
       "    <tr>\n",
       "      <th>context.span_id</th>\n",
       "      <th></th>\n",
       "    </tr>\n",
       "  </thead>\n",
       "  <tbody>\n",
       "    <tr>\n",
       "      <th>b855f2c0c2a8e136</th>\n",
       "      <td>import pandas as pd\\nimport matplotlib.pyplot ...</td>\n",
       "    </tr>\n",
       "  </tbody>\n",
       "</table>\n",
       "</div>"
      ],
      "text/plain": [
       "                                                     generated_code\n",
       "context.span_id                                                    \n",
       "b855f2c0c2a8e136  import pandas as pd\\nimport matplotlib.pyplot ..."
      ]
     },
     "execution_count": 12,
     "metadata": {},
     "output_type": "execute_result"
    }
   ],
   "source": [
    "query = SpanQuery().where(\n",
    "    \"name =='generate_visualization'\"\n",
    ").select(\n",
    "    generated_code=\"output.value\"\n",
    ")\n",
    "\n",
    "# The Phoenix Client can take this query and return the dataframe.\n",
    "code_gen_df = px.Client().query_spans(query, \n",
    "                                      project_name=PROJECT_NAME, \n",
    "                                      timeout=None)\n",
    "\n",
    "code_gen_df.head()"
   ]
  },
  {
   "cell_type": "code",
   "execution_count": 13,
   "id": "db36e48e-6e8f-4211-8560-dbe9a3b640c1",
   "metadata": {},
   "outputs": [],
   "source": [
    "def code_is_runnable(output: str) -> bool:\n",
    "    \"\"\"Check if the code is runnable\"\"\"\n",
    "    output = output.strip()\n",
    "    output = output.replace(\"```python\", \"\").replace(\"```\", \"\")\n",
    "    try:\n",
    "        exec(output)\n",
    "        return True\n",
    "    except Exception as e:\n",
    "        return False"
   ]
  },
  {
   "cell_type": "code",
   "execution_count": 14,
   "id": "80cded0e-79fc-422f-ab74-cc8e59445297",
   "metadata": {},
   "outputs": [
    {
     "data": {
      "image/png": "[encoded data removed]",
      "text/plain": [
       "<Figure size 1000x500 with 1 Axes>"
      ]
     },
     "metadata": {},
     "output_type": "display_data"
    }
   ],
   "source": [
    "code_gen_df[\"label\"] = code_gen_df[\"generated_code\"].apply(code_is_runnable).map({True: \"runnable\", False: \"not_runnable\"})\n",
    "code_gen_df[\"score\"] = code_gen_df[\"label\"].map({\"runnable\": 1, \"not_runnable\": 0})\n"
   ]
  },
  {
   "cell_type": "code",
   "execution_count": 15,
   "id": "c3d1c23b-fda1-4351-8d67-6b577367d2ca",
   "metadata": {},
   "outputs": [
    {
     "data": {
      "text/html": [
       "<div>\n",
       "<style scoped>\n",
       "    .dataframe tbody tr th:only-of-type {\n",
       "        vertical-align: middle;\n",
       "    }\n",
       "\n",
       "    .dataframe tbody tr th {\n",
       "        vertical-align: top;\n",
       "    }\n",
       "\n",
       "    .dataframe thead th {\n",
       "        text-align: right;\n",
       "    }\n",
       "</style>\n",
       "<table border=\"1\" class=\"dataframe\">\n",
       "  <thead>\n",
       "    <tr style=\"text-align: right;\">\n",
       "      <th></th>\n",
       "      <th>generated_code</th>\n",
       "      <th>label</th>\n",
       "      <th>score</th>\n",
       "    </tr>\n",
       "    <tr>\n",
       "      <th>context.span_id</th>\n",
       "      <th></th>\n",
       "      <th></th>\n",
       "      <th></th>\n",
       "    </tr>\n",
       "  </thead>\n",
       "  <tbody>\n",
       "    <tr>\n",
       "      <th>b855f2c0c2a8e136</th>\n",
       "      <td>import pandas as pd\\nimport matplotlib.pyplot ...</td>\n",
       "      <td>runnable</td>\n",
       "      <td>1</td>\n",
       "    </tr>\n",
       "  </tbody>\n",
       "</table>\n",
       "</div>"
      ],
      "text/plain": [
       "                                                     generated_code     label  \\\n",
       "context.span_id                                                                 \n",
       "b855f2c0c2a8e136  import pandas as pd\\nimport matplotlib.pyplot ...  runnable   \n",
       "\n",
       "                  score  \n",
       "context.span_id          \n",
       "b855f2c0c2a8e136      1  "
      ]
     },
     "execution_count": 15,
     "metadata": {},
     "output_type": "execute_result"
    }
   ],
   "source": [
    "code_gen_df.head()"
   ]
  },
  {
   "cell_type": "code",
   "execution_count": 16,
   "id": "8a227067-0d7d-4f92-b30c-18e2624459e9",
   "metadata": {},
   "outputs": [],
   "source": [
    "px.Client().log_evaluations(\n",
    "    SpanEvaluations(eval_name=\"Runnable Code Eval\", dataframe=code_gen_df),\n",
    ")"
   ]
  },
  {
   "cell_type": "code",
   "execution_count": 17,
   "id": "ea2e4465-ffca-47fb-9dfe-14e40d8b7f84",
   "metadata": {},
   "outputs": [],
   "source": [
    "CLARITY_LLM_JUDGE_PROMPT = \"\"\"\n",
    "In this task, you will be presented with a query and an answer. Your objective is to evaluate the clarity \n",
    "of the answer in addressing the query. A clear response is one that is precise, coherent, and directly \n",
    "addresses the query without introducing unnecessary complexity or ambiguity. An unclear response is one \n",
    "that is vague, disorganized, or difficult to understand, even if it may be factually correct.\n",
    "\n",
    "Your response should be a single word: either \"clear\" or \"unclear,\" and it should not include any other \n",
    "text or characters. \"clear\" indicates that the answer is well-structured, easy to understand, and \n",
    "appropriately addresses the query. \"unclear\" indicates that some part of the response could be better \n",
    "structured or worded.\n",
    "Please carefully consider the query and answer before determining your response.\n",
    "\n",
    "After analyzing the query and the answer, you must write a detailed explanation of your reasoning to \n",
    "justify why you chose either \"clear\" or \"unclear.\" Avoid stating the final label at the beginning of your \n",
    "explanation. Your reasoning should include specific points about how the answer does or does not meet the \n",
    "criteria for clarity.\n",
    "\n",
    "[BEGIN DATA]\n",
    "Query: {query}\n",
    "Answer: {response}\n",
    "[END DATA]\n",
    "Please analyze the data carefully and provide an explanation followed by your response.\n",
    "\n",
    "EXPLANATION: Provide your reasoning step by step, evaluating the clarity of the answer based on the query.\n",
    "LABEL: \"clear\" or \"unclear\"\n",
    "\"\"\""
   ]
  },
  {
   "cell_type": "code",
   "execution_count": 18,
   "id": "4cd32fb4-9c12-4437-80c9-f3688eb2d5a8",
   "metadata": {},
   "outputs": [
    {
     "data": {
      "text/html": [
       "<div>\n",
       "<style scoped>\n",
       "    .dataframe tbody tr th:only-of-type {\n",
       "        vertical-align: middle;\n",
       "    }\n",
       "\n",
       "    .dataframe tbody tr th {\n",
       "        vertical-align: top;\n",
       "    }\n",
       "\n",
       "    .dataframe thead th {\n",
       "        text-align: right;\n",
       "    }\n",
       "</style>\n",
       "<table border=\"1\" class=\"dataframe\">\n",
       "  <thead>\n",
       "    <tr style=\"text-align: right;\">\n",
       "      <th></th>\n",
       "      <th>response</th>\n",
       "      <th>query</th>\n",
       "    </tr>\n",
       "    <tr>\n",
       "      <th>context.span_id</th>\n",
       "      <th></th>\n",
       "      <th></th>\n",
       "    </tr>\n",
       "  </thead>\n",
       "  <tbody>\n",
       "    <tr>\n",
       "      <th>c6363e465f3a346a</th>\n",
       "      <td>The most popular product SKU was 6200700, whic...</td>\n",
       "      <td>[{\"role\": \"user\", \"content\": \"What was the mos...</td>\n",
       "    </tr>\n",
       "    <tr>\n",
       "      <th>70acd242c005e166</th>\n",
       "      <td>The total revenue across all stores was approx...</td>\n",
       "      <td>[{\"role\": \"user\", \"content\": \"What was the tot...</td>\n",
       "    </tr>\n",
       "    <tr>\n",
       "      <th>6071bb905ac21285</th>\n",
       "      <td>The store with the highest sales volume is Sto...</td>\n",
       "      <td>[{\"role\": \"user\", \"content\": \"Which store had ...</td>\n",
       "    </tr>\n",
       "    <tr>\n",
       "      <th>9ff9fa66d6141933</th>\n",
       "      <td>Here is the bar chart showing total sales by s...</td>\n",
       "      <td>[{\"role\": \"user\", \"content\": \"Create a bar cha...</td>\n",
       "    </tr>\n",
       "    <tr>\n",
       "      <th>2dfd8079d5ed632e</th>\n",
       "      <td>Approximately 62.56% of items were sold on pro...</td>\n",
       "      <td>[{\"role\": \"user\", \"content\": \"What percentage ...</td>\n",
       "    </tr>\n",
       "  </tbody>\n",
       "</table>\n",
       "</div>"
      ],
      "text/plain": [
       "                                                           response  \\\n",
       "context.span_id                                                       \n",
       "c6363e465f3a346a  The most popular product SKU was 6200700, whic...   \n",
       "70acd242c005e166  The total revenue across all stores was approx...   \n",
       "6071bb905ac21285  The store with the highest sales volume is Sto...   \n",
       "9ff9fa66d6141933  Here is the bar chart showing total sales by s...   \n",
       "2dfd8079d5ed632e  Approximately 62.56% of items were sold on pro...   \n",
       "\n",
       "                                                              query  \n",
       "context.span_id                                                      \n",
       "c6363e465f3a346a  [{\"role\": \"user\", \"content\": \"What was the mos...  \n",
       "70acd242c005e166  [{\"role\": \"user\", \"content\": \"What was the tot...  \n",
       "6071bb905ac21285  [{\"role\": \"user\", \"content\": \"Which store had ...  \n",
       "9ff9fa66d6141933  [{\"role\": \"user\", \"content\": \"Create a bar cha...  \n",
       "2dfd8079d5ed632e  [{\"role\": \"user\", \"content\": \"What percentage ...  "
      ]
     },
     "execution_count": 18,
     "metadata": {},
     "output_type": "execute_result"
    }
   ],
   "source": [
    "query = SpanQuery().where(\n",
    "    \"span_kind=='AGENT'\"\n",
    ").select(\n",
    "    response=\"output.value\",\n",
    "    query=\"input.value\"\n",
    ")\n",
    "\n",
    "# The Phoenix Client can take this query and return the dataframe.\n",
    "clarity_df = px.Client().query_spans(query, \n",
    "                                     project_name=PROJECT_NAME,\n",
    "                                     timeout=None)\n",
    "\n",
    "clarity_df.head()"
   ]
  },
  {
   "cell_type": "code",
   "execution_count": 19,
   "id": "7ba681c9-efb1-4403-97ca-e9e8540717c8",
   "metadata": {},
   "outputs": [
    {
     "data": {
      "application/vnd.jupyter.widget-view+json": {
       "model_id": "a71df8abc3dc41a68dbc3a60955ce643",
       "version_major": 2,
       "version_minor": 0
      },
      "text/plain": [
       "llm_classify |          | 0/6 (0.0%) | ⏳ 00:00<? | ?it/s"
      ]
     },
     "metadata": {},
     "output_type": "display_data"
    },
    {
     "data": {
      "text/html": [
       "<div>\n",
       "<style scoped>\n",
       "    .dataframe tbody tr th:only-of-type {\n",
       "        vertical-align: middle;\n",
       "    }\n",
       "\n",
       "    .dataframe tbody tr th {\n",
       "        vertical-align: top;\n",
       "    }\n",
       "\n",
       "    .dataframe thead th {\n",
       "        text-align: right;\n",
       "    }\n",
       "</style>\n",
       "<table border=\"1\" class=\"dataframe\">\n",
       "  <thead>\n",
       "    <tr style=\"text-align: right;\">\n",
       "      <th></th>\n",
       "      <th>label</th>\n",
       "      <th>explanation</th>\n",
       "      <th>exceptions</th>\n",
       "      <th>execution_status</th>\n",
       "      <th>execution_seconds</th>\n",
       "      <th>score</th>\n",
       "    </tr>\n",
       "    <tr>\n",
       "      <th>context.span_id</th>\n",
       "      <th></th>\n",
       "      <th></th>\n",
       "      <th></th>\n",
       "      <th></th>\n",
       "      <th></th>\n",
       "      <th></th>\n",
       "    </tr>\n",
       "  </thead>\n",
       "  <tbody>\n",
       "    <tr>\n",
       "      <th>c6363e465f3a346a</th>\n",
       "      <td>clear</td>\n",
       "      <td>The query asks for the most popular product SK...</td>\n",
       "      <td>[]</td>\n",
       "      <td>COMPLETED</td>\n",
       "      <td>4.802335</td>\n",
       "      <td>1</td>\n",
       "    </tr>\n",
       "    <tr>\n",
       "      <th>70acd242c005e166</th>\n",
       "      <td>clear</td>\n",
       "      <td>The query asks for the total revenue across al...</td>\n",
       "      <td>[]</td>\n",
       "      <td>COMPLETED</td>\n",
       "      <td>4.942434</td>\n",
       "      <td>1</td>\n",
       "    </tr>\n",
       "    <tr>\n",
       "      <th>6071bb905ac21285</th>\n",
       "      <td>clear</td>\n",
       "      <td>The query asks for the store with the highest ...</td>\n",
       "      <td>[]</td>\n",
       "      <td>COMPLETED</td>\n",
       "      <td>4.195964</td>\n",
       "      <td>1</td>\n",
       "    </tr>\n",
       "    <tr>\n",
       "      <th>9ff9fa66d6141933</th>\n",
       "      <td>clear</td>\n",
       "      <td>The query asks for a bar chart showing total s...</td>\n",
       "      <td>[]</td>\n",
       "      <td>COMPLETED</td>\n",
       "      <td>3.911647</td>\n",
       "      <td>1</td>\n",
       "    </tr>\n",
       "    <tr>\n",
       "      <th>2dfd8079d5ed632e</th>\n",
       "      <td>clear</td>\n",
       "      <td>The query asks for the percentage of items sol...</td>\n",
       "      <td>[]</td>\n",
       "      <td>COMPLETED</td>\n",
       "      <td>4.599451</td>\n",
       "      <td>1</td>\n",
       "    </tr>\n",
       "  </tbody>\n",
       "</table>\n",
       "</div>"
      ],
      "text/plain": [
       "                  label                                        explanation  \\\n",
       "context.span_id                                                              \n",
       "c6363e465f3a346a  clear  The query asks for the most popular product SK...   \n",
       "70acd242c005e166  clear  The query asks for the total revenue across al...   \n",
       "6071bb905ac21285  clear  The query asks for the store with the highest ...   \n",
       "9ff9fa66d6141933  clear  The query asks for a bar chart showing total s...   \n",
       "2dfd8079d5ed632e  clear  The query asks for the percentage of items sol...   \n",
       "\n",
       "                 exceptions execution_status  execution_seconds  score  \n",
       "context.span_id                                                         \n",
       "c6363e465f3a346a         []        COMPLETED           4.802335      1  \n",
       "70acd242c005e166         []        COMPLETED           4.942434      1  \n",
       "6071bb905ac21285         []        COMPLETED           4.195964      1  \n",
       "9ff9fa66d6141933         []        COMPLETED           3.911647      1  \n",
       "2dfd8079d5ed632e         []        COMPLETED           4.599451      1  "
      ]
     },
     "execution_count": 19,
     "metadata": {},
     "output_type": "execute_result"
    }
   ],
   "source": [
    "with suppress_tracing():\n",
    "    clarity_eval = llm_classify(\n",
    "        dataframe = clarity_df,\n",
    "        template = CLARITY_LLM_JUDGE_PROMPT,\n",
    "        rails = ['clear', 'unclear'],\n",
    "        model=OpenAIModel(model=\"gpt-4o\"),\n",
    "        provide_explanation=True\n",
    "    )\n",
    "\n",
    "clarity_eval['score'] = clarity_eval.apply(lambda x: 1 if x['label']=='clear' else 0, axis=1)\n",
    "\n",
    "clarity_eval.head()"
   ]
  },
  {
   "cell_type": "code",
   "execution_count": 20,
   "id": "d7c7db9d-7c7b-46bd-81d8-c64945732929",
   "metadata": {},
   "outputs": [],
   "source": [
    "px.Client().log_evaluations(\n",
    "    SpanEvaluations(eval_name=\"Response Clarity\", dataframe=clarity_eval),\n",
    ")"
   ]
  },
  {
   "cell_type": "code",
   "execution_count": 21,
   "id": "e1ff4935-69a9-4600-a264-3f67b83d7888",
   "metadata": {},
   "outputs": [],
   "source": [
    "SQL_EVAL_GEN_PROMPT = \"\"\"\n",
    "SQL Evaluation Prompt:\n",
    "-----------------------\n",
    "You are tasked with determining if the SQL generated appropiately answers a given instruction\n",
    "taking into account its generated query and response.\n",
    "\n",
    "Data:\n",
    "-----\n",
    "- [Instruction]: {question}\n",
    "  This section contains the specific task or problem that the sql query is intended to solve.\n",
    "\n",
    "- [Reference Query]: {query_gen}\n",
    "  This is the sql query submitted for evaluation. Analyze it in the context of the provided\n",
    "  instruction.\n",
    "\n",
    "Evaluation:\n",
    "-----------\n",
    "Your response should be a single word: either \"correct\" or \"incorrect\".\n",
    "You must assume that the db exists and that columns are appropiately named.\n",
    "You must take into account the response as additional information to determine the correctness.\n",
    "\n",
    "- \"correct\" indicates that the sql query correctly solves the instruction.\n",
    "- \"incorrect\" indicates that the sql query correctly does not solve the instruction correctly.\n",
    "\n",
    "Note: Your response should contain only the word \"correct\" or \"incorrect\" with no additional text\n",
    "or characters.\n",
    "\"\"\""
   ]
  },
  {
   "cell_type": "code",
   "execution_count": 22,
   "id": "c6bd2b08-f922-4afa-901f-deec91138072",
   "metadata": {},
   "outputs": [
    {
     "data": {
      "text/html": [
       "<div>\n",
       "<style scoped>\n",
       "    .dataframe tbody tr th:only-of-type {\n",
       "        vertical-align: middle;\n",
       "    }\n",
       "\n",
       "    .dataframe tbody tr th {\n",
       "        vertical-align: top;\n",
       "    }\n",
       "\n",
       "    .dataframe thead th {\n",
       "        text-align: right;\n",
       "    }\n",
       "</style>\n",
       "<table border=\"1\" class=\"dataframe\">\n",
       "  <thead>\n",
       "    <tr style=\"text-align: right;\">\n",
       "      <th></th>\n",
       "      <th>query_gen</th>\n",
       "      <th>question</th>\n",
       "    </tr>\n",
       "    <tr>\n",
       "      <th>context.span_id</th>\n",
       "      <th></th>\n",
       "      <th></th>\n",
       "    </tr>\n",
       "  </thead>\n",
       "  <tbody>\n",
       "    <tr>\n",
       "      <th>69050c5291199e15</th>\n",
       "      <td>[{'message': {'role': 'assistant', 'content': ...</td>\n",
       "      <td>{\"messages\": [{\"role\": \"user\", \"content\": \"\\nG...</td>\n",
       "    </tr>\n",
       "    <tr>\n",
       "      <th>08cb51b5493b3f87</th>\n",
       "      <td>[{'message': {'role': 'assistant', 'content': ...</td>\n",
       "      <td>{\"messages\": [{\"role\": \"user\", \"content\": \"\\nG...</td>\n",
       "    </tr>\n",
       "    <tr>\n",
       "      <th>6c4a12ce7a498c0e</th>\n",
       "      <td>[{'message': {'role': 'assistant', 'content': ...</td>\n",
       "      <td>{\"messages\": [{\"role\": \"user\", \"content\": \"\\nG...</td>\n",
       "    </tr>\n",
       "    <tr>\n",
       "      <th>721a8b5eeeee293b</th>\n",
       "      <td>[{'message': {'role': 'assistant', 'content': ...</td>\n",
       "      <td>{\"messages\": [{\"role\": \"user\", \"content\": \"\\nG...</td>\n",
       "    </tr>\n",
       "    <tr>\n",
       "      <th>827752d3e41b67a6</th>\n",
       "      <td>[{'message': {'role': 'assistant', 'content': ...</td>\n",
       "      <td>{\"messages\": [{\"role\": \"user\", \"content\": \"\\nG...</td>\n",
       "    </tr>\n",
       "  </tbody>\n",
       "</table>\n",
       "</div>"
      ],
      "text/plain": [
       "                                                          query_gen  \\\n",
       "context.span_id                                                       \n",
       "69050c5291199e15  [{'message': {'role': 'assistant', 'content': ...   \n",
       "08cb51b5493b3f87  [{'message': {'role': 'assistant', 'content': ...   \n",
       "6c4a12ce7a498c0e  [{'message': {'role': 'assistant', 'content': ...   \n",
       "721a8b5eeeee293b  [{'message': {'role': 'assistant', 'content': ...   \n",
       "827752d3e41b67a6  [{'message': {'role': 'assistant', 'content': ...   \n",
       "\n",
       "                                                           question  \n",
       "context.span_id                                                      \n",
       "69050c5291199e15  {\"messages\": [{\"role\": \"user\", \"content\": \"\\nG...  \n",
       "08cb51b5493b3f87  {\"messages\": [{\"role\": \"user\", \"content\": \"\\nG...  \n",
       "6c4a12ce7a498c0e  {\"messages\": [{\"role\": \"user\", \"content\": \"\\nG...  \n",
       "721a8b5eeeee293b  {\"messages\": [{\"role\": \"user\", \"content\": \"\\nG...  \n",
       "827752d3e41b67a6  {\"messages\": [{\"role\": \"user\", \"content\": \"\\nG...  "
      ]
     },
     "execution_count": 22,
     "metadata": {},
     "output_type": "execute_result"
    }
   ],
   "source": [
    "query = SpanQuery().where(\n",
    "    \"span_kind=='LLM'\"\n",
    ").select(\n",
    "    query_gen=\"llm.output_messages\",\n",
    "    question=\"input.value\",\n",
    ")\n",
    "\n",
    "# The Phoenix Client can take this query and return the dataframe.\n",
    "sql_df = px.Client().query_spans(query, \n",
    "                                 project_name=PROJECT_NAME,\n",
    "                                 timeout=None)\n",
    "sql_df = sql_df[sql_df[\"question\"].str.contains(\"Generate an SQL query based on a prompt.\", na=False)]\n",
    "\n",
    "sql_df.head()"
   ]
  },
  {
   "cell_type": "code",
   "execution_count": 23,
   "id": "e3d7f096-4e66-49dc-9c86-4b8cafece2b1",
   "metadata": {},
   "outputs": [
    {
     "data": {
      "application/vnd.jupyter.widget-view+json": {
       "model_id": "2366368913a04662bbd249987b20bb46",
       "version_major": 2,
       "version_minor": 0
      },
      "text/plain": [
       "llm_classify |          | 0/6 (0.0%) | ⏳ 00:00<? | ?it/s"
      ]
     },
     "metadata": {},
     "output_type": "display_data"
    },
    {
     "data": {
      "text/html": [
       "<div>\n",
       "<style scoped>\n",
       "    .dataframe tbody tr th:only-of-type {\n",
       "        vertical-align: middle;\n",
       "    }\n",
       "\n",
       "    .dataframe tbody tr th {\n",
       "        vertical-align: top;\n",
       "    }\n",
       "\n",
       "    .dataframe thead th {\n",
       "        text-align: right;\n",
       "    }\n",
       "</style>\n",
       "<table border=\"1\" class=\"dataframe\">\n",
       "  <thead>\n",
       "    <tr style=\"text-align: right;\">\n",
       "      <th></th>\n",
       "      <th>label</th>\n",
       "      <th>explanation</th>\n",
       "      <th>exceptions</th>\n",
       "      <th>execution_status</th>\n",
       "      <th>execution_seconds</th>\n",
       "      <th>score</th>\n",
       "    </tr>\n",
       "    <tr>\n",
       "      <th>context.span_id</th>\n",
       "      <th></th>\n",
       "      <th></th>\n",
       "      <th></th>\n",
       "      <th></th>\n",
       "      <th></th>\n",
       "      <th></th>\n",
       "    </tr>\n",
       "  </thead>\n",
       "  <tbody>\n",
       "    <tr>\n",
       "      <th>69050c5291199e15</th>\n",
       "      <td>correct</td>\n",
       "      <td>The task is to find the most popular product S...</td>\n",
       "      <td>[]</td>\n",
       "      <td>COMPLETED</td>\n",
       "      <td>3.569910</td>\n",
       "      <td>1</td>\n",
       "    </tr>\n",
       "    <tr>\n",
       "      <th>08cb51b5493b3f87</th>\n",
       "      <td>correct</td>\n",
       "      <td>The SQL query provided is `SELECT SUM(Total_Sa...</td>\n",
       "      <td>[]</td>\n",
       "      <td>COMPLETED</td>\n",
       "      <td>3.078330</td>\n",
       "      <td>1</td>\n",
       "    </tr>\n",
       "    <tr>\n",
       "      <th>6c4a12ce7a498c0e</th>\n",
       "      <td>correct</td>\n",
       "      <td>The SQL query correctly identifies the store w...</td>\n",
       "      <td>[]</td>\n",
       "      <td>COMPLETED</td>\n",
       "      <td>5.160587</td>\n",
       "      <td>1</td>\n",
       "    </tr>\n",
       "    <tr>\n",
       "      <th>721a8b5eeeee293b</th>\n",
       "      <td>correct</td>\n",
       "      <td>The SQL query provided correctly calculates th...</td>\n",
       "      <td>[]</td>\n",
       "      <td>COMPLETED</td>\n",
       "      <td>5.726428</td>\n",
       "      <td>1</td>\n",
       "    </tr>\n",
       "    <tr>\n",
       "      <th>827752d3e41b67a6</th>\n",
       "      <td>correct</td>\n",
       "      <td>The SQL query calculates the percentage of ite...</td>\n",
       "      <td>[]</td>\n",
       "      <td>COMPLETED</td>\n",
       "      <td>8.025766</td>\n",
       "      <td>1</td>\n",
       "    </tr>\n",
       "  </tbody>\n",
       "</table>\n",
       "</div>"
      ],
      "text/plain": [
       "                    label                                        explanation  \\\n",
       "context.span_id                                                                \n",
       "69050c5291199e15  correct  The task is to find the most popular product S...   \n",
       "08cb51b5493b3f87  correct  The SQL query provided is `SELECT SUM(Total_Sa...   \n",
       "6c4a12ce7a498c0e  correct  The SQL query correctly identifies the store w...   \n",
       "721a8b5eeeee293b  correct  The SQL query provided correctly calculates th...   \n",
       "827752d3e41b67a6  correct  The SQL query calculates the percentage of ite...   \n",
       "\n",
       "                 exceptions execution_status  execution_seconds  score  \n",
       "context.span_id                                                         \n",
       "69050c5291199e15         []        COMPLETED           3.569910      1  \n",
       "08cb51b5493b3f87         []        COMPLETED           3.078330      1  \n",
       "6c4a12ce7a498c0e         []        COMPLETED           5.160587      1  \n",
       "721a8b5eeeee293b         []        COMPLETED           5.726428      1  \n",
       "827752d3e41b67a6         []        COMPLETED           8.025766      1  "
      ]
     },
     "execution_count": 23,
     "metadata": {},
     "output_type": "execute_result"
    }
   ],
   "source": [
    "with suppress_tracing():\n",
    "    sql_gen_eval = llm_classify(\n",
    "        dataframe = sql_df,\n",
    "        template = SQL_EVAL_GEN_PROMPT,\n",
    "        rails = ['correct', 'incorrect'],\n",
    "        model=OpenAIModel(model=\"gpt-4o\"),\n",
    "        provide_explanation=True\n",
    "    )\n",
    "\n",
    "sql_gen_eval['score'] = sql_gen_eval.apply(lambda x: 1 if x['label']=='correct' else 0, axis=1)\n",
    "\n",
    "sql_gen_eval.head()"
   ]
  },
  {
   "cell_type": "code",
   "execution_count": 24,
   "id": "365c3433-e7d3-4799-9f2f-8d752d4673f0",
   "metadata": {},
   "outputs": [],
   "source": [
    "px.Client().log_evaluations(\n",
    "    SpanEvaluations(eval_name=\"SQL Gen Eval\", dataframe=sql_gen_eval),\n",
    ")"
   ]
  },
  {
   "cell_type": "code",
   "execution_count": null,
   "id": "d83fb4bd-1653-400c-8501-f177bc58d7c6",
   "metadata": {},
   "outputs": [],
   "source": []
  }
 ],
 "metadata": {
  "kernelspec": {
   "display_name": "Python 3 (ipykernel)",
   "language": "python",
   "name": "python3"
  },
  "language_info": {
   "codemirror_mode": {
    "name": "ipython",
    "version": 3
   },
   "file_extension": ".py",
   "mimetype": "text/x-python",
   "name": "python",
   "nbconvert_exporter": "python",
   "pygments_lexer": "ipython3",
   "version": "3.12.0"
  }
 },
 "nbformat": 4,
 "nbformat_minor": 5
}
